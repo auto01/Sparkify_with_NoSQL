{
 "cells": [
  {
   "cell_type": "markdown",
   "metadata": {
    "editable": true
   },
   "source": [
    "# Part I. ETL Pipeline for Pre-Processing the Files"
   ]
  },
  {
   "cell_type": "markdown",
   "metadata": {
    "editable": true
   },
   "source": [
    "## PLEASE RUN THE FOLLOWING CODE FOR PRE-PROCESSING THE FILES"
   ]
  },
  {
   "cell_type": "markdown",
   "metadata": {
    "editable": true
   },
   "source": [
    "#### Import Python packages "
   ]
  },
  {
   "cell_type": "code",
   "execution_count": 100,
   "metadata": {
    "editable": true
   },
   "outputs": [],
   "source": [
    "import pandas as pd\n",
    "import cassandra\n",
    "import os\n",
    "import glob\n",
    "import csv"
   ]
  },
  {
   "cell_type": "markdown",
   "metadata": {
    "editable": true
   },
   "source": [
    "#### Creating list of filepaths to process original event csv data files"
   ]
  },
  {
   "cell_type": "code",
   "execution_count": 101,
   "metadata": {
    "editable": true
   },
   "outputs": [
    {
     "name": "stdout",
     "output_type": "stream",
     "text": [
      "/home/workspace\n"
     ]
    }
   ],
   "source": [
    "print(os.getcwd())\n",
    "\n",
    "filepath = os.getcwd() + '/event_data'\n",
    "file_path_list=[]\n",
    "for root, dirs, files in os.walk(filepath):\n",
    "    files = glob.glob(os.path.join(root,'*'))\n",
    "    for file in files:\n",
    "        file_path_list.append(file)"
   ]
  },
  {
   "cell_type": "markdown",
   "metadata": {
    "editable": true
   },
   "source": [
    "#### Processing the files to create the data file csv that will be used for Apache Casssandra tables"
   ]
  },
  {
   "cell_type": "code",
   "execution_count": 102,
   "metadata": {
    "editable": true
   },
   "outputs": [],
   "source": [
    "# initiating an empty list of rows that will be generated from each file\n",
    "full_data_rows_list = [] \n",
    "# first_file is variable which helps to include header in new csv\n",
    "first_file=1   \n",
    "       \n",
    "for f in file_path_list:\n",
    "    with open(f, 'r', encoding = 'utf8', newline='') as csvfile: \n",
    "        csvreader = csv.reader(csvfile) \n",
    "        #to include header of only first file in the new csv\n",
    "        if first_file==0:\n",
    "            next(csvreader)\n",
    "        \n",
    "        for line in csvreader:\n",
    "            full_data_rows_list.append(line) \n",
    "        first_file=0\n",
    "\n",
    "csv.register_dialect('myDialect', quoting=csv.QUOTE_ALL, skipinitialspace=True)\n",
    "\n",
    "with open('event_datafile_new.csv', 'w', encoding = 'utf8', newline='') as f:\n",
    "    writer = csv.writer(f, dialect='myDialect')\n",
    "    for row in full_data_rows_list:\n",
    "        if (row[0] == ''):\n",
    "            continue\n",
    "        writer.writerow(row)\n"
   ]
  },
  {
   "cell_type": "code",
   "execution_count": 103,
   "metadata": {
    "editable": true
   },
   "outputs": [
    {
     "name": "stdout",
     "output_type": "stream",
     "text": [
      "6932\n"
     ]
    }
   ],
   "source": [
    "# check the number of rows in your csv file\n",
    "with open('event_datafile_new.csv', 'r', encoding = 'utf8') as f:\n",
    "    print(sum(1 for line in f))"
   ]
  },
  {
   "cell_type": "markdown",
   "metadata": {
    "editable": true
   },
   "source": [
    "## Part II. Apache Cassandra portion\n",
    "#### Processing the newly created event_datafile_new.csv \n",
    "\n",
    "#### Creating a Cluster"
   ]
  },
  {
   "cell_type": "code",
   "execution_count": 104,
   "metadata": {
    "editable": true
   },
   "outputs": [],
   "source": [
    "# This should make a connection to a Cassandra instance your local machine \n",
    "# (127.0.0.1)\n",
    "\n",
    "from cassandra.cluster import Cluster\n",
    "try:\n",
    "    cluster = Cluster(['127.0.0.1'])\n",
    "    # To establish connection and begin executing queries, need a session\n",
    "    session = cluster.connect()\n",
    "except Exception as e:\n",
    "    print(e)"
   ]
  },
  {
   "cell_type": "markdown",
   "metadata": {
    "editable": true
   },
   "source": [
    "#### Create Keyspace"
   ]
  },
  {
   "cell_type": "code",
   "execution_count": 105,
   "metadata": {
    "editable": true
   },
   "outputs": [],
   "source": [
    "try:\n",
    "    query=\"create keyspace if not exists udacity\\\n",
    "    with replication = {'class':'SimpleStrategy','replication_factor':1}\"\n",
    "    session.execute(query)\n",
    "except Exception as e:\n",
    "    print(e)"
   ]
  },
  {
   "cell_type": "markdown",
   "metadata": {
    "editable": true
   },
   "source": [
    "#### Set Keyspace"
   ]
  },
  {
   "cell_type": "code",
   "execution_count": 106,
   "metadata": {
    "editable": true
   },
   "outputs": [],
   "source": [
    "try:\n",
    "    session.set_keyspace('udacity')\n",
    "except Exception as e:\n",
    "    print(e)"
   ]
  },
  {
   "cell_type": "markdown",
   "metadata": {
    "editable": true
   },
   "source": [
    "### Now we need to create tables to run the following queries."
   ]
  },
  {
   "cell_type": "markdown",
   "metadata": {
    "editable": true
   },
   "source": [
    "### Create queries to ask the following three questions of the data\n",
    "\n",
    " 1. Give me the artist, song title and song's length in the music app history that was heard during  sessionId = 338, and itemInSession  = 4\n",
    "\n",
    "\n",
    " 2. Give me only the following: name of artist, song (sorted by itemInSession) and user (first and last name) for userid = 10, sessionid = 182\n",
    "    \n",
    "\n",
    " 3. Give me every user name (first and last) in my music app history who listened to the song 'All Hands Against His Own'\n",
    "\n",
    "\n"
   ]
  },
  {
   "cell_type": "markdown",
   "metadata": {
    "editable": true
   },
   "source": [
    "## Query-1 Model Description\n",
    "\n",
    "Query1: Give me the artist, song title and song's length in the music app history that was heard during sessionId = 338, and itemInSession = 4\n",
    "  \n",
    "Approach: \n",
    "\n",
    "Here query expects Name of the artist, title of the song and song's length based on sessionId and itemInSession\n",
    "\n",
    "As we are working here with NoSQL database ,so we decide query first then create table based on that query.\n",
    "\n",
    "- Expected Output: Name of the artist, title of the song , song's length\n",
    "- Based On: sessionId , itemInSession\n",
    "\n",
    "so the required query should be like\n",
    "```\n",
    "select artist,song_title,song_length from session_songs where sessionId = value and itemInSession = value\n",
    "\n",
    "```\n",
    "now our query is finalised ,we can now move to create table based on above query.\n",
    "\n",
    "We will add 'NOT EXIST' to the CREATE statement to check if the table exists and only create the table if it does not exist. \n",
    "Now we need to select the columns that are going to be in the table and the Primary Key\n",
    "\n",
    "Primary key: It uniquely identifies a row in a table .\n",
    "In Cassandra Primary Key is consist of two parts (Partition key,clustering key{optional})\n",
    "\n",
    "Partition key - It tells how our data is partitioned and stored.\n",
    "we need to use (sessionId) as our partition key as we are fetching our records based on sessionId.\n",
    "Clustering key - It tells how our data is stored within the partition.\n",
    "we need to use itemInSession as our clustering key as there can be multiple rows with same sessionId and we \n",
    "want our Primary key to be unique.\n",
    "\n",
    "so our PRIMARY KEY will be :\n",
    "```\n",
    "(sessionId,itemInSession)\n",
    "```\n",
    "Now we are ready to go for table creation followed by ETL flow and then execute the query.\n",
    "\n"
   ]
  },
  {
   "cell_type": "markdown",
   "metadata": {
    "editable": true
   },
   "source": [
    "#### Create Table"
   ]
  },
  {
   "cell_type": "code",
   "execution_count": 107,
   "metadata": {
    "editable": true
   },
   "outputs": [],
   "source": [
    "try:\n",
    "    query=\"create table if not exists session_songs\"\n",
    "    query=query+\"(sessionId int,itemInSession int,artist text,song_title text,\\\n",
    "    song_length float,primary key(sessionId,itemInSession))\"\n",
    "    session.execute(query)\n",
    "except Exception as e:\n",
    "    print(e)           "
   ]
  },
  {
   "cell_type": "markdown",
   "metadata": {
    "editable": true
   },
   "source": [
    "#### ETL "
   ]
  },
  {
   "cell_type": "code",
   "execution_count": 108,
   "metadata": {
    "editable": true
   },
   "outputs": [],
   "source": [
    "file='event_datafile_new.csv'\n",
    "with open(file,mode='r', encoding = 'utf8') as f:\n",
    "    csvreader = csv.reader(f)\n",
    "    next(csvreader) # skip header\n",
    "\n",
    "    for line in csvreader:\n",
    "        query = \"insert into session_songs(sessionId,itemInSession,artist,song_title,song_length)\"\n",
    "        query = query + \" values (%s,%s,%s,%s,%s)\"       \n",
    "        try:\n",
    "            # here in order to fetch required field from the line row ,we use proper index mapping \n",
    "            session.execute(query, (int(line[12]),int(line[4]),line[0], line[13],float(line[6])))\n",
    "        except Exception as e:\n",
    "            print(line)\n",
    "            print(e)"
   ]
  },
  {
   "cell_type": "markdown",
   "metadata": {
    "editable": true
   },
   "source": [
    "#### Fetch the required data"
   ]
  },
  {
   "cell_type": "code",
   "execution_count": 109,
   "metadata": {
    "editable": true,
    "scrolled": true
   },
   "outputs": [
    {
     "name": "stdout",
     "output_type": "stream",
     "text": [
      "Faithless Music Matters (Mark Knight Dub) 495.30731201171875\n"
     ]
    }
   ],
   "source": [
    "try:\n",
    "    query=\"select artist,song_title,song_length from session_songs \\\n",
    "    where sessionId = 338 and itemInSession = 4\"\n",
    "    rows=session.execute(query)\n",
    "except Exception as e:\n",
    "    print(e)\n",
    "for row in rows:\n",
    "    print(row.artist,row.song_title,row.song_length)"
   ]
  },
  {
   "cell_type": "markdown",
   "metadata": {
    "editable": true
   },
   "source": [
    "## Query-2 Model Description\n",
    "\n",
    "Query2 : Give me only the following: name of artist, song (sorted by itemInSession) and user (first and last name) for userid = 10, sessionid = 182\n",
    "  \n",
    "Approach: \n",
    "\n",
    "Here query expects Name of the artist, title of the song(sorted by itemInSession) and user details (ie.first and last name) based on userId and sessionId.\n",
    "\n",
    "As we are working here with NoSQL database ,so we decide query first then create table based on that query.\n",
    "\n",
    "- Expected Output: Name of the artist, title of the song(sorted by itemInSession) , user details(first and last name)\n",
    "- Based On: userId,sessionId\n",
    "\n",
    "so the required query should be like\n",
    "```\n",
    "select artist,song_title,first_name,last_name from user_events where userId=value and sessionId=value\n",
    "\n",
    "```\n",
    "now our query is finalised ,we can now move to create table based on above query.\n",
    "\n",
    "We will add 'NOT EXIST' to the CREATE statement to check if the table exists and only create the table if it does not exist. \n",
    "Now we need to select the columns that are going to be in the table and the Primary Key\n",
    "\n",
    "Primary key: It uniquely identifies a row in a table .\n",
    "In Cassandra Primary Key is consist of two parts (Partition key,clustering key{optional})\n",
    "Partition key - It tells how our data is partitioned and stored\n",
    "we need to use (userId,sessionId) as our partition key as we are fetching our records based on userId and sessionId.\n",
    "Clustering key - It tells how our data is stored within the partition.\n",
    "we need to use itemInSession as our clustering key as we want our data(ie song title) to be sorted by itemInSession.\n",
    "\n",
    "so our PRIMARY KEY will be :\n",
    "```\n",
    "((userId,sessionId),itemInSession)\n",
    "```\n",
    "(Partition key,clustering key) as ((userId,sessionId),itemInSession)\n",
    "\n",
    "Now we are ready to go for table creation followed by ETL flow and then execute the query."
   ]
  },
  {
   "cell_type": "markdown",
   "metadata": {
    "editable": true
   },
   "source": [
    "#### Create Table"
   ]
  },
  {
   "cell_type": "code",
   "execution_count": 110,
   "metadata": {
    "editable": true
   },
   "outputs": [],
   "source": [
    "try:\n",
    "    query=\"create table if not exists user_events\"\n",
    "    query=query+\"(userId int,sessionId int,itemInSession int,artist text,\\\n",
    "    song_title text,first_name text,last_name text,primary key((userId,sessionId),itemInSession))\"\n",
    "    session.execute(query)\n",
    "except Exception as e:\n",
    "    print(e)        "
   ]
  },
  {
   "cell_type": "markdown",
   "metadata": {
    "editable": true
   },
   "source": [
    "#### ETL"
   ]
  },
  {
   "cell_type": "code",
   "execution_count": 111,
   "metadata": {
    "editable": true
   },
   "outputs": [],
   "source": [
    "file='event_datafile_new.csv'\n",
    "\n",
    "with open(file,mode='r',encoding='utf8') as f:\n",
    "    csv_reader=csv.reader(f)\n",
    "    next(csv_reader) \n",
    "    for line in csv_reader:\n",
    "        try:\n",
    "            query=\"insert into user_events(userId,sessionId,itemInSession,artist,song_title,first_name,last_name) \"\n",
    "            query=query+\"values(%s,%s,%s,%s,%s,%s,%s)\"\n",
    "            session.execute(query,(int(line[16]),int(line[12]),int(line[4]),line[0],line[13],line[2],line[5]))\n",
    "        except Exception as e:\n",
    "            print(line)\n",
    "            print(e)"
   ]
  },
  {
   "cell_type": "markdown",
   "metadata": {
    "editable": true
   },
   "source": [
    "#### Fetch the required data"
   ]
  },
  {
   "cell_type": "code",
   "execution_count": 112,
   "metadata": {
    "editable": true
   },
   "outputs": [
    {
     "name": "stdout",
     "output_type": "stream",
     "text": [
      "Down To The Bone Keep On Keepin' On Sylvie Cruz\n",
      "Three Drives Greece 2000 Sylvie Cruz\n",
      "Sebastien Tellier Kilometer Sylvie Cruz\n",
      "Lonnie Gordon Catch You Baby (Steve Pitron & Max Sanna Radio Edit) Sylvie Cruz\n"
     ]
    }
   ],
   "source": [
    "try:\n",
    "    query=\"select artist,song_title,first_name,last_name from user_events\\\n",
    "    where userId=10 and sessionId=182\"\n",
    "    rows=session.execute(query)\n",
    "except Exception as e:\n",
    "    print(e)\n",
    "for row in rows:\n",
    "    print(row.artist,row.song_title,row.first_name,row.last_name)"
   ]
  },
  {
   "cell_type": "markdown",
   "metadata": {
    "editable": true
   },
   "source": [
    "## Query-3 Model Description\n",
    "\n",
    "Query3: Give me every user name (first and last) in my music app history who listened to the song 'All Hands Against His Own'\n",
    "\n",
    "Approach: \n",
    "\n",
    "Here query expects User details(ie.first and last name ) based on the title of song.\n",
    "\n",
    "As we are working here with NoSQL database ,so we decide query first then create table based on that query.\n",
    "\n",
    "- Expected Output: FirstName,LastName\n",
    "- Based On: Title of song\n",
    "\n",
    "so the required query should be like\n",
    "\n",
    "```\n",
    "select first_name,last_name from user_songs_details where song='value'\n",
    "\n",
    "```\n",
    "now our query is finalised ,we can now move to create table based on above query.\n",
    "\n",
    "We will add 'NOT EXIST' to the CREATE statement to check if the table exists and only create the table if it does not exist. \n",
    "Now we need to select the columns that are going to be in the table and the Primary Key\n",
    "\n",
    "Primary key: It uniquely identifies a row in a table .\n",
    "\n",
    "here Primary Key will be :\n",
    "```\n",
    "(song,userId)\n",
    "```\n",
    "song as our partition key and userId helps to cluster all userId in that song partition.\n",
    "\n",
    "\n",
    "\n",
    "Now we are ready to go for table creation followed by ETL flow and then execute the query.\n"
   ]
  },
  {
   "cell_type": "markdown",
   "metadata": {
    "editable": true
   },
   "source": [
    "#### Create Table"
   ]
  },
  {
   "cell_type": "code",
   "execution_count": 113,
   "metadata": {
    "editable": true
   },
   "outputs": [],
   "source": [
    "try:\n",
    "    query=\"create table if not exists user_songs_details\"\n",
    "    query=query+\"(song text,userId int,first_name text,last_name text,\\\n",
    "    primary key(song,userId))\"\n",
    "    session.execute(query)\n",
    "except Exception as e:\n",
    "    print(e)          "
   ]
  },
  {
   "cell_type": "markdown",
   "metadata": {
    "editable": true
   },
   "source": [
    "#### ETL"
   ]
  },
  {
   "cell_type": "code",
   "execution_count": 114,
   "metadata": {
    "editable": true
   },
   "outputs": [],
   "source": [
    "file='event_datafile_new.csv'\n",
    "\n",
    "with open(file,mode='r',encoding='utf8') as f:\n",
    "    csv_reader=csv.reader(f)\n",
    "    next(csv_reader)\n",
    "    for line in csv_reader:\n",
    "        try:\n",
    "            query=\"insert into user_songs_details(song,userId,first_name,last_name) \"\n",
    "            query=query+\"values(%s,%s,%s,%s)\"\n",
    "            session.execute(query,(line[13],int(line[16]),line[2],line[5]))\n",
    "        except Exception as e:\n",
    "            print(line)\n",
    "            print(e)"
   ]
  },
  {
   "cell_type": "markdown",
   "metadata": {
    "editable": true
   },
   "source": [
    "#### Fetch the required data"
   ]
  },
  {
   "cell_type": "code",
   "execution_count": 115,
   "metadata": {
    "editable": true
   },
   "outputs": [
    {
     "name": "stdout",
     "output_type": "stream",
     "text": [
      "Jacqueline Lynch\n",
      "Tegan Levine\n",
      "Sara Johnson\n"
     ]
    }
   ],
   "source": [
    "try:\n",
    "    query=\"select first_name,last_name from user_songs_details\\\n",
    "    where song='All Hands Against His Own'\"\n",
    "    rows=session.execute(query)\n",
    "except Exception as e:\n",
    "    print(e)\n",
    "for row in rows:\n",
    "    print(row.first_name,row.last_name)"
   ]
  },
  {
   "cell_type": "markdown",
   "metadata": {
    "editable": true
   },
   "source": [
    "### Drop the tables before closing out the sessions"
   ]
  },
  {
   "cell_type": "code",
   "execution_count": 116,
   "metadata": {
    "editable": true
   },
   "outputs": [],
   "source": [
    "try:\n",
    "    session.execute(\"drop table if exists session_songs\")\n",
    "    session.execute(\"drop table if exists user_events\")\n",
    "    session.execute(\"drop table if exists user_songs_details\")\n",
    "except Exception as e:\n",
    "    print(e)"
   ]
  },
  {
   "cell_type": "markdown",
   "metadata": {
    "editable": true
   },
   "source": [
    "### Close the session and cluster connection¶"
   ]
  },
  {
   "cell_type": "code",
   "execution_count": 117,
   "metadata": {
    "editable": true
   },
   "outputs": [],
   "source": [
    "\n",
    "session.shutdown()\n",
    "cluster.shutdown()"
   ]
  },
  {
   "cell_type": "code",
   "execution_count": null,
   "metadata": {
    "editable": true
   },
   "outputs": [],
   "source": []
  },
  {
   "cell_type": "code",
   "execution_count": null,
   "metadata": {
    "editable": true
   },
   "outputs": [],
   "source": []
  },
  {
   "cell_type": "code",
   "execution_count": null,
   "metadata": {
    "editable": true
   },
   "outputs": [],
   "source": []
  },
  {
   "cell_type": "code",
   "execution_count": null,
   "metadata": {
    "editable": true
   },
   "outputs": [],
   "source": []
  },
  {
   "cell_type": "code",
   "execution_count": null,
   "metadata": {
    "editable": true
   },
   "outputs": [],
   "source": []
  },
  {
   "cell_type": "code",
   "execution_count": null,
   "metadata": {
    "editable": true
   },
   "outputs": [],
   "source": []
  }
 ],
 "metadata": {
  "kernelspec": {
   "display_name": "Python 3",
   "language": "python",
   "name": "python3"
  },
  "language_info": {
   "codemirror_mode": {
    "name": "ipython",
    "version": 3
   },
   "file_extension": ".py",
   "mimetype": "text/x-python",
   "name": "python",
   "nbconvert_exporter": "python",
   "pygments_lexer": "ipython3",
   "version": "3.6.3"
  }
 },
 "nbformat": 4,
 "nbformat_minor": 4
}
